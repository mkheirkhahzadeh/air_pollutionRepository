{
  "nbformat": 4,
  "nbformat_minor": 0,
  "metadata": {
    "colab": {
      "provenance": []
    },
    "kernelspec": {
      "name": "python3",
      "display_name": "Python 3"
    },
    "language_info": {
      "name": "python"
    },
    "widgets": {
      "application/vnd.jupyter.widget-state+json": {
        "8fe78756bd554311957df12fa04143bc": {
          "model_module": "@jupyter-widgets/controls",
          "model_name": "HBoxModel",
          "model_module_version": "1.5.0",
          "state": {
            "_dom_classes": [],
            "_model_module": "@jupyter-widgets/controls",
            "_model_module_version": "1.5.0",
            "_model_name": "HBoxModel",
            "_view_count": null,
            "_view_module": "@jupyter-widgets/controls",
            "_view_module_version": "1.5.0",
            "_view_name": "HBoxView",
            "box_style": "",
            "children": [
              "IPY_MODEL_eef127684c0a4f6eb29508f496c83158",
              "IPY_MODEL_937a7a69473f4bec8fde977159b23a06",
              "IPY_MODEL_5fc5259dcc5744eeb10154009f04aff1"
            ],
            "layout": "IPY_MODEL_5f0f7aa7db3d43feb2c20d6c2bf442f2"
          }
        },
        "eef127684c0a4f6eb29508f496c83158": {
          "model_module": "@jupyter-widgets/controls",
          "model_name": "HTMLModel",
          "model_module_version": "1.5.0",
          "state": {
            "_dom_classes": [],
            "_model_module": "@jupyter-widgets/controls",
            "_model_module_version": "1.5.0",
            "_model_name": "HTMLModel",
            "_view_count": null,
            "_view_module": "@jupyter-widgets/controls",
            "_view_module_version": "1.5.0",
            "_view_name": "HTMLView",
            "description": "",
            "description_tooltip": null,
            "layout": "IPY_MODEL_da1fa31e1691402494938f171c529cb0",
            "placeholder": "​",
            "style": "IPY_MODEL_427e3e930b3041a885d16aa46546549e",
            "value": "Uploading: 100.000%"
          }
        },
        "937a7a69473f4bec8fde977159b23a06": {
          "model_module": "@jupyter-widgets/controls",
          "model_name": "FloatProgressModel",
          "model_module_version": "1.5.0",
          "state": {
            "_dom_classes": [],
            "_model_module": "@jupyter-widgets/controls",
            "_model_module_version": "1.5.0",
            "_model_name": "FloatProgressModel",
            "_view_count": null,
            "_view_module": "@jupyter-widgets/controls",
            "_view_module_version": "1.5.0",
            "_view_name": "ProgressView",
            "bar_style": "success",
            "description": "",
            "description_tooltip": null,
            "layout": "IPY_MODEL_4bad76b876034b74b2fe151931ec153a",
            "max": 28358,
            "min": 0,
            "orientation": "horizontal",
            "style": "IPY_MODEL_0e93a7cde06e4ae592f57b9e9d51407d",
            "value": 28358
          }
        },
        "5fc5259dcc5744eeb10154009f04aff1": {
          "model_module": "@jupyter-widgets/controls",
          "model_name": "HTMLModel",
          "model_module_version": "1.5.0",
          "state": {
            "_dom_classes": [],
            "_model_module": "@jupyter-widgets/controls",
            "_model_module_version": "1.5.0",
            "_model_name": "HTMLModel",
            "_view_count": null,
            "_view_module": "@jupyter-widgets/controls",
            "_view_module_version": "1.5.0",
            "_view_name": "HTMLView",
            "description": "",
            "description_tooltip": null,
            "layout": "IPY_MODEL_22d38642047c4a77a774c4420e26a49e",
            "placeholder": "​",
            "style": "IPY_MODEL_2437eba5813348dcb5c6459a52cb447f",
            "value": " 28358/28358 elapsed&lt;00:01 remaining&lt;00:00"
          }
        },
        "5f0f7aa7db3d43feb2c20d6c2bf442f2": {
          "model_module": "@jupyter-widgets/base",
          "model_name": "LayoutModel",
          "model_module_version": "1.2.0",
          "state": {
            "_model_module": "@jupyter-widgets/base",
            "_model_module_version": "1.2.0",
            "_model_name": "LayoutModel",
            "_view_count": null,
            "_view_module": "@jupyter-widgets/base",
            "_view_module_version": "1.2.0",
            "_view_name": "LayoutView",
            "align_content": null,
            "align_items": null,
            "align_self": null,
            "border": null,
            "bottom": null,
            "display": null,
            "flex": null,
            "flex_flow": null,
            "grid_area": null,
            "grid_auto_columns": null,
            "grid_auto_flow": null,
            "grid_auto_rows": null,
            "grid_column": null,
            "grid_gap": null,
            "grid_row": null,
            "grid_template_areas": null,
            "grid_template_columns": null,
            "grid_template_rows": null,
            "height": null,
            "justify_content": null,
            "justify_items": null,
            "left": null,
            "margin": null,
            "max_height": null,
            "max_width": null,
            "min_height": null,
            "min_width": null,
            "object_fit": null,
            "object_position": null,
            "order": null,
            "overflow": null,
            "overflow_x": null,
            "overflow_y": null,
            "padding": null,
            "right": null,
            "top": null,
            "visibility": null,
            "width": null
          }
        },
        "da1fa31e1691402494938f171c529cb0": {
          "model_module": "@jupyter-widgets/base",
          "model_name": "LayoutModel",
          "model_module_version": "1.2.0",
          "state": {
            "_model_module": "@jupyter-widgets/base",
            "_model_module_version": "1.2.0",
            "_model_name": "LayoutModel",
            "_view_count": null,
            "_view_module": "@jupyter-widgets/base",
            "_view_module_version": "1.2.0",
            "_view_name": "LayoutView",
            "align_content": null,
            "align_items": null,
            "align_self": null,
            "border": null,
            "bottom": null,
            "display": null,
            "flex": null,
            "flex_flow": null,
            "grid_area": null,
            "grid_auto_columns": null,
            "grid_auto_flow": null,
            "grid_auto_rows": null,
            "grid_column": null,
            "grid_gap": null,
            "grid_row": null,
            "grid_template_areas": null,
            "grid_template_columns": null,
            "grid_template_rows": null,
            "height": null,
            "justify_content": null,
            "justify_items": null,
            "left": null,
            "margin": null,
            "max_height": null,
            "max_width": null,
            "min_height": null,
            "min_width": null,
            "object_fit": null,
            "object_position": null,
            "order": null,
            "overflow": null,
            "overflow_x": null,
            "overflow_y": null,
            "padding": null,
            "right": null,
            "top": null,
            "visibility": null,
            "width": null
          }
        },
        "427e3e930b3041a885d16aa46546549e": {
          "model_module": "@jupyter-widgets/controls",
          "model_name": "DescriptionStyleModel",
          "model_module_version": "1.5.0",
          "state": {
            "_model_module": "@jupyter-widgets/controls",
            "_model_module_version": "1.5.0",
            "_model_name": "DescriptionStyleModel",
            "_view_count": null,
            "_view_module": "@jupyter-widgets/base",
            "_view_module_version": "1.2.0",
            "_view_name": "StyleView",
            "description_width": ""
          }
        },
        "4bad76b876034b74b2fe151931ec153a": {
          "model_module": "@jupyter-widgets/base",
          "model_name": "LayoutModel",
          "model_module_version": "1.2.0",
          "state": {
            "_model_module": "@jupyter-widgets/base",
            "_model_module_version": "1.2.0",
            "_model_name": "LayoutModel",
            "_view_count": null,
            "_view_module": "@jupyter-widgets/base",
            "_view_module_version": "1.2.0",
            "_view_name": "LayoutView",
            "align_content": null,
            "align_items": null,
            "align_self": null,
            "border": null,
            "bottom": null,
            "display": null,
            "flex": null,
            "flex_flow": null,
            "grid_area": null,
            "grid_auto_columns": null,
            "grid_auto_flow": null,
            "grid_auto_rows": null,
            "grid_column": null,
            "grid_gap": null,
            "grid_row": null,
            "grid_template_areas": null,
            "grid_template_columns": null,
            "grid_template_rows": null,
            "height": null,
            "justify_content": null,
            "justify_items": null,
            "left": null,
            "margin": null,
            "max_height": null,
            "max_width": null,
            "min_height": null,
            "min_width": null,
            "object_fit": null,
            "object_position": null,
            "order": null,
            "overflow": null,
            "overflow_x": null,
            "overflow_y": null,
            "padding": null,
            "right": null,
            "top": null,
            "visibility": null,
            "width": null
          }
        },
        "0e93a7cde06e4ae592f57b9e9d51407d": {
          "model_module": "@jupyter-widgets/controls",
          "model_name": "ProgressStyleModel",
          "model_module_version": "1.5.0",
          "state": {
            "_model_module": "@jupyter-widgets/controls",
            "_model_module_version": "1.5.0",
            "_model_name": "ProgressStyleModel",
            "_view_count": null,
            "_view_module": "@jupyter-widgets/base",
            "_view_module_version": "1.2.0",
            "_view_name": "StyleView",
            "bar_color": null,
            "description_width": ""
          }
        },
        "22d38642047c4a77a774c4420e26a49e": {
          "model_module": "@jupyter-widgets/base",
          "model_name": "LayoutModel",
          "model_module_version": "1.2.0",
          "state": {
            "_model_module": "@jupyter-widgets/base",
            "_model_module_version": "1.2.0",
            "_model_name": "LayoutModel",
            "_view_count": null,
            "_view_module": "@jupyter-widgets/base",
            "_view_module_version": "1.2.0",
            "_view_name": "LayoutView",
            "align_content": null,
            "align_items": null,
            "align_self": null,
            "border": null,
            "bottom": null,
            "display": null,
            "flex": null,
            "flex_flow": null,
            "grid_area": null,
            "grid_auto_columns": null,
            "grid_auto_flow": null,
            "grid_auto_rows": null,
            "grid_column": null,
            "grid_gap": null,
            "grid_row": null,
            "grid_template_areas": null,
            "grid_template_columns": null,
            "grid_template_rows": null,
            "height": null,
            "justify_content": null,
            "justify_items": null,
            "left": null,
            "margin": null,
            "max_height": null,
            "max_width": null,
            "min_height": null,
            "min_width": null,
            "object_fit": null,
            "object_position": null,
            "order": null,
            "overflow": null,
            "overflow_x": null,
            "overflow_y": null,
            "padding": null,
            "right": null,
            "top": null,
            "visibility": null,
            "width": null
          }
        },
        "2437eba5813348dcb5c6459a52cb447f": {
          "model_module": "@jupyter-widgets/controls",
          "model_name": "DescriptionStyleModel",
          "model_module_version": "1.5.0",
          "state": {
            "_model_module": "@jupyter-widgets/controls",
            "_model_module_version": "1.5.0",
            "_model_name": "DescriptionStyleModel",
            "_view_count": null,
            "_view_module": "@jupyter-widgets/base",
            "_view_module_version": "1.2.0",
            "_view_name": "StyleView",
            "description_width": ""
          }
        }
      }
    }
  },
  "cells": [
    {
      "cell_type": "code",
      "execution_count": null,
      "metadata": {
        "id": "t5PoHOfkGRCn"
      },
      "outputs": [],
      "source": [
        "!pip install hopsworks"
      ]
    },
    {
      "cell_type": "code",
      "source": [
        "! pip install python-dotenv"
      ],
      "metadata": {
        "id": "YQ3HbaIXIAyI"
      },
      "execution_count": null,
      "outputs": []
    },
    {
      "cell_type": "code",
      "source": [
        "!pip install dataframe_image"
      ],
      "metadata": {
        "id": "qzz4HzsbIRse"
      },
      "execution_count": null,
      "outputs": []
    },
    {
      "cell_type": "code",
      "source": [
        "!pip install modal-client"
      ],
      "metadata": {
        "id": "Bb222hPvGqza"
      },
      "execution_count": null,
      "outputs": []
    },
    {
      "cell_type": "code",
      "source": [
        "!modal token set --token-id ak-IfeYoI0enT5Ge88owasoWr --token-secret as-OtOY0YO11rcF1dy8kPoRnY --env=personal"
      ],
      "metadata": {
        "colab": {
          "base_uri": "https://localhost:8080/"
        },
        "id": "WNYsXXdjG6L_",
        "outputId": "bc9f10cb-72bc-4be3-84bc-ad6931eda1bc"
      },
      "execution_count": 1,
      "outputs": [
        {
          "output_type": "stream",
          "name": "stdout",
          "text": [
            "Verifying token against \u001b[4;34mhttps://api.modal.com\u001b[0m\n",
            "\u001b[32mToken verified successfully\u001b[0m\n",
            "Token written to \u001b[35m/root/\u001b[0m\u001b[95m.modal.toml\u001b[0m\n"
          ]
        }
      ]
    },
    {
      "cell_type": "code",
      "source": [
        "import modal\n",
        "\n",
        "from API_call_visual_crossing import get_weather_df\n",
        "\n",
        "LOCAL = True\n",
        "\n",
        "if not LOCAL:\n",
        "    stub = modal.Stub()\n",
        "    image = modal.Image.debian_slim().pip_install(\n",
        "        [\"hopsworks==3.0.4\", \"joblib\", \"pandas\", \"dataframe_image\", \"scikit-learn\"]\n",
        "    )\n",
        "\n",
        "\n",
        "    @stub.function(image=image, schedule=modal.Period(days=1), secrets=[modal.Secret.from_name(\"HOPSWORKS_API_KEY\"),\n",
        "                                                                        modal.Secret.from_name(\"WEATHER_API_KEY\")])\n",
        "    def f():\n",
        "        g()\n",
        "\n",
        "\n",
        "def g():\n",
        "    import hopsworks\n",
        "    import os\n",
        "    import joblib\n",
        "    import pandas as pd\n",
        "    import dataframe_image as dfi\n",
        "\n",
        "    project = hopsworks.login()\n",
        "\n",
        "    city = 'Paris'\n",
        "    date = ''\n",
        "\n",
        "    WEATHER_API_KEY = os.getenv('WEATHER_API_KEY')\n",
        "    df_weather = get_weather_df(city, date, WEATHER_API_KEY)\n",
        "    next_7_days = df_weather[\"date\"]\n",
        "    data_7_days = df_weather.drop('date', axis=1)\n",
        "\n",
        "    mr = project.get_model_registry()\n",
        "    model = mr.get_best_model(\"aqi_model\", \"r2\", \"max\")\n",
        "    model_dir = model.download()\n",
        "    model = joblib.load(model_dir + \"/aqi_model.pkl\")\n",
        "\n",
        "    pred_7_days = model.predict(data_7_days)\n",
        "\n",
        "    df = pd.DataFrame(data=pred_7_days, index=next_7_days, columns=[f\"AQI Predictions for the next 7 days\"], dtype=int)\n",
        "\n",
        "    print(df)\n",
        "\n",
        "    dfi.export(df, './df_next_7_days.png', table_conversion='matplotlib')\n",
        "\n",
        "    dataset_api = project.get_dataset_api()\n",
        "    dataset_api.upload(\"./df_next_7_days.png\", \"Resources/aqi/images\", overwrite=True)\n",
        "\n",
        "\n",
        "if __name__ == \"__main__\":\n",
        "    if LOCAL:\n",
        "        from dotenv import load_dotenv\n",
        "\n",
        "        load_dotenv()\n",
        "        g()\n",
        "    else:\n",
        "        #stub.deploy()\n",
        "        with stub.run():\n",
        "            f()\n"
      ],
      "metadata": {
        "colab": {
          "base_uri": "https://localhost:8080/",
          "height": 434,
          "referenced_widgets": [
            "8fe78756bd554311957df12fa04143bc",
            "eef127684c0a4f6eb29508f496c83158",
            "937a7a69473f4bec8fde977159b23a06",
            "5fc5259dcc5744eeb10154009f04aff1",
            "5f0f7aa7db3d43feb2c20d6c2bf442f2",
            "da1fa31e1691402494938f171c529cb0",
            "427e3e930b3041a885d16aa46546549e",
            "4bad76b876034b74b2fe151931ec153a",
            "0e93a7cde06e4ae592f57b9e9d51407d",
            "22d38642047c4a77a774c4420e26a49e",
            "2437eba5813348dcb5c6459a52cb447f"
          ]
        },
        "id": "KczRgs3KGR8d",
        "outputId": "0bc17e00-f052-4b3f-bdb3-b6ab12667b32"
      },
      "execution_count": 2,
      "outputs": [
        {
          "output_type": "stream",
          "name": "stderr",
          "text": [
            "DeprecationWarning: defusedxml.cElementTree is deprecated, import from defusedxml.ElementTree instead.\n"
          ]
        },
        {
          "output_type": "stream",
          "name": "stdout",
          "text": [
            "Copy your Api Key (first register/login): https://c.app.hopsworks.ai/account/api/generated\n",
            "\n",
            "Paste it here: ··········\n",
            "Connected. Call `.close()` to terminate connection gracefully.\n",
            "\n",
            "Logged in to project, explore it here https://c.app.hopsworks.ai:443/p/5315\n",
            "Connected. Call `.close()` to terminate connection gracefully.\n"
          ]
        },
        {
          "output_type": "stream",
          "name": "stderr",
          "text": [
            "UserWarning: Trying to unpickle estimator LinearRegression from version 1.2.0 when using version 1.0.2. This might lead to breaking code or invalid results. Use at your own risk. For more info please refer to:\n",
            "https://scikit-learn.org/stable/modules/model_persistence.html#security-maintainability-limitations\n",
            "FutureWarning: In a future version, passing float-dtype values and an integer dtype to DataFrame will retain floating dtype if they cannot be cast losslessly (matching Series behavior). To retain the old behavior, use DataFrame(data).astype(dtype)\n",
            "DeprecationWarning: Using or importing the ABCs from 'collections' instead of from 'collections.abc' is deprecated since Python 3.3, and in 3.10 it will stop working\n"
          ]
        },
        {
          "output_type": "stream",
          "name": "stdout",
          "text": [
            "            AQI Predictions for the next 7 days\n",
            "date                                           \n",
            "2023-01-23                                   42\n",
            "2023-01-24                                   35\n",
            "2023-01-25                                   27\n",
            "2023-01-26                                   41\n",
            "2023-01-27                                   38\n",
            "2023-01-28                                   43\n",
            "2023-01-29                                   38\n"
          ]
        },
        {
          "output_type": "display_data",
          "data": {
            "text/plain": [
              "Uploading: 0.000%|          | 0/28358 elapsed<00:00 remaining<?"
            ],
            "application/vnd.jupyter.widget-view+json": {
              "version_major": 2,
              "version_minor": 0,
              "model_id": "8fe78756bd554311957df12fa04143bc"
            }
          },
          "metadata": {}
        }
      ]
    }
  ]
}